{
  "nbformat": 4,
  "nbformat_minor": 0,
  "metadata": {
    "colab": {
      "provenance": []
    },
    "kernelspec": {
      "name": "python3",
      "display_name": "Python 3"
    },
    "language_info": {
      "name": "python"
    }
  },
  "cells": [
    {
      "cell_type": "markdown",
      "source": [
        "原模型"
      ],
      "metadata": {
        "id": "SrHID_IrVtAC"
      }
    },
    {
      "cell_type": "code",
      "execution_count": null,
      "metadata": {
        "colab": {
          "base_uri": "https://localhost:8080/"
        },
        "id": "VeRqyWSVUXH6",
        "outputId": "00ce1828-62af-4096-dca5-a13278e72e70"
      },
      "outputs": [
        {
          "output_type": "stream",
          "name": "stdout",
          "text": [
            "Downloading data from https://storage.googleapis.com/tensorflow/tf-keras-datasets/imdb.npz\n",
            "17464789/17464789 [==============================] - 0s 0us/step\n",
            "Epoch 1/10\n",
            "782/782 [==============================] - 257s 324ms/step - loss: 0.4394 - accuracy: 0.7860 - val_loss: 0.3701 - val_accuracy: 0.8357\n",
            "Epoch 2/10\n",
            "782/782 [==============================] - 278s 356ms/step - loss: 0.2597 - accuracy: 0.8971 - val_loss: 0.4211 - val_accuracy: 0.8197\n",
            "Epoch 3/10\n",
            "782/782 [==============================] - 262s 336ms/step - loss: 0.1679 - accuracy: 0.9364 - val_loss: 0.4176 - val_accuracy: 0.8299\n",
            "Epoch 4/10\n",
            "275/782 [=========>....................] - ETA: 2:22 - loss: 0.0916 - accuracy: 0.9698"
          ]
        }
      ],
      "source": [
        "import numpy as np\n",
        "from keras.models import Sequential\n",
        "from keras.layers import LSTM, Dense, Embedding\n",
        "from keras.preprocessing.sequence import pad_sequences\n",
        "from keras.datasets import imdb\n",
        "\n",
        "# 參數設定\n",
        "max_features = 20000\n",
        "maxlen = 80\n",
        "batch_size = 32\n",
        "embedding_size = 128\n",
        "lstm_units = 128\n",
        "epochs = 10\n",
        "\n",
        "# 加載IMDB數據集\n",
        "(x_train, y_train), (x_test, y_test) = imdb.load_data(num_words=max_features)\n",
        "\n",
        "# 將序列數據填充到固定長度\n",
        "x_train = pad_sequences(x_train, maxlen=maxlen)\n",
        "x_test = pad_sequences(x_test, maxlen=maxlen)\n",
        "\n",
        "# 構建LSTM模型\n",
        "model = Sequential()\n",
        "model.add(Embedding(max_features, embedding_size, input_length=maxlen))\n",
        "model.add(LSTM(lstm_units, dropout=0.2, recurrent_dropout=0.2))\n",
        "model.add(Dense(1, activation='sigmoid'))\n",
        "\n",
        "# 編譯模型\n",
        "model.compile(loss='binary_crossentropy', optimizer='adam', metrics=['accuracy'])\n",
        "\n",
        "# 訓練模型\n",
        "model.fit(x_train, y_train, batch_size=batch_size, epochs=epochs, validation_data=(x_test, y_test))\n",
        "\n",
        "# 評估模型\n",
        "score, acc = model.evaluate(x_test, y_test, batch_size=batch_size)\n",
        "print('Test score:', score)\n",
        "print('Test accuracy:', acc)"
      ]
    },
    {
      "cell_type": "markdown",
      "source": [
        "**說明：**\n",
        "\n",
        "數據集：這裡使用了Reuters新聞數據集，你可以將其替換為自己的數據集。\n",
        "\n",
        "預訓練詞嵌入：使用GloVe詞嵌入來初始化嵌入層，這通常能夠提高模型的性能。\n",
        "\n",
        "雙層LSTM：增加了LSTM層的數量以捕捉更多特徵。\n",
        "\n",
        "Dropout：在LSTM層和全連接層中使用Dropout來防止過擬合。"
      ],
      "metadata": {
        "id": "Tex9sLSeVm08"
      }
    },
    {
      "cell_type": "code",
      "source": [
        "import numpy as np\n",
        "from keras.models import Sequential\n",
        "from keras.layers import LSTM, Dense, Embedding, Dropout\n",
        "from keras.preprocessing.sequence import pad_sequences\n",
        "from keras.preprocessing.text import Tokenizer\n",
        "from keras.initializers import Constant\n",
        "\n",
        "# 加載數據集 (這裡使用一個示例數據集，你可以替換成自己的數據集)\n",
        "from keras.datasets import reuters\n",
        "(x_train, y_train), (x_test, y_test) = reuters.load_data(num_words=20000)\n",
        "\n",
        "# 參數設定\n",
        "max_features = 20000\n",
        "maxlen = 100\n",
        "embedding_dim = 100\n",
        "batch_size = 32\n",
        "lstm_units = 128\n",
        "epochs = 10\n",
        "\n",
        "# 將序列數據填充到固定長度\n",
        "x_train = pad_sequences(x_train, maxlen=maxlen)\n",
        "x_test = pad_sequences(x_test, maxlen=maxlen)\n",
        "\n",
        "# 構建詞嵌入索引 (使用GloVe)\n",
        "embedding_index = {}\n",
        "with open('glove.6B.100d.txt', encoding='utf-8') as f:\n",
        "    for line in f:\n",
        "        values = line.split()\n",
        "        word = values[0]\n",
        "        coefs = np.asarray(values[1:], dtype='float32')\n",
        "        embedding_index[word] = coefs\n",
        "\n",
        "# 構建詞嵌入矩陣\n",
        "tokenizer = Tokenizer(num_words=max_features)\n",
        "word_index = tokenizer.word_index\n",
        "embedding_matrix = np.zeros((max_features, embedding_dim))\n",
        "for word, i in word_index.items():\n",
        "    if i < max_features:\n",
        "        embedding_vector = embedding_index.get(word)\n",
        "        if embedding_vector is not None:\n",
        "            embedding_matrix[i] = embedding_vector\n",
        "\n",
        "# 構建LSTM模型\n",
        "model = Sequential()\n",
        "embedding_layer = Embedding(max_features, embedding_dim, embeddings_initializer=Constant(embedding_matrix),\n",
        "                            input_length=maxlen, trainable=False)\n",
        "model.add(embedding_layer)\n",
        "model.add(LSTM(lstm_units, dropout=0.2, recurrent_dropout=0.2, return_sequences=True))\n",
        "model.add(LSTM(lstm_units, dropout=0.2, recurrent_dropout=0.2))\n",
        "model.add(Dense(128, activation='relu'))\n",
        "model.add(Dropout(0.5))\n",
        "model.add(Dense(1, activation='sigmoid'))\n",
        "\n",
        "# 編譯模型\n",
        "model.compile(loss='binary_crossentropy', optimizer='adam', metrics=['accuracy'])\n",
        "\n",
        "# 訓練模型\n",
        "model.fit(x_train, y_train, batch_size=batch_size, epochs=epochs, validation_data=(x_test, y_test))\n",
        "\n",
        "# 評估模型\n",
        "score, acc = model.evaluate(x_test, y_test, batch_size=batch_size)\n",
        "print('Test score:', score)\n",
        "print('Test accuracy:', acc)"
      ],
      "metadata": {
        "id": "ambYmSnTVbMD"
      },
      "execution_count": null,
      "outputs": []
    }
  ]
}